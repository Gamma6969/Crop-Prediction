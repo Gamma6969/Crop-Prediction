{
 "cells": [
  {
   "cell_type": "markdown",
   "id": "2b995c96",
   "metadata": {
    "papermill": {
     "duration": 0.020387,
     "end_time": "2023-02-12T12:02:35.333805",
     "exception": false,
     "start_time": "2023-02-12T12:02:35.313418",
     "status": "completed"
    },
    "tags": []
   },
   "source": [
    "# **CROP PREDICTION**"
   ]
  },
  {
   "cell_type": "markdown",
   "id": "f5267a4e",
   "metadata": {
    "papermill": {
     "duration": 0.017814,
     "end_time": "2023-02-12T12:02:35.480381",
     "exception": false,
     "start_time": "2023-02-12T12:02:35.462567",
     "status": "completed"
    },
    "tags": []
   },
   "source": [
    "# **IMPORTING LIBRARIES**"
   ]
  },
  {
   "cell_type": "code",
   "execution_count": 117,
   "id": "b7696ac6",
   "metadata": {
    "execution": {
     "iopub.execute_input": "2023-02-12T12:02:35.519825Z",
     "iopub.status.busy": "2023-02-12T12:02:35.518738Z",
     "iopub.status.idle": "2023-02-12T12:02:36.495116Z",
     "shell.execute_reply": "2023-02-12T12:02:36.493795Z"
    },
    "id": "mZVHMkPEbTTJ",
    "papermill": {
     "duration": 0.999686,
     "end_time": "2023-02-12T12:02:36.498344",
     "exception": false,
     "start_time": "2023-02-12T12:02:35.498658",
     "status": "completed"
    },
    "tags": []
   },
   "outputs": [],
   "source": [
    "import numpy as np\n",
    "import pandas as pd\n",
    "import matplotlib.pyplot as plt\n",
    "import seaborn as sns"
   ]
  },
  {
   "cell_type": "markdown",
   "id": "36d6080b",
   "metadata": {
    "papermill": {
     "duration": 0.017575,
     "end_time": "2023-02-12T12:02:36.533957",
     "exception": false,
     "start_time": "2023-02-12T12:02:36.516382",
     "status": "completed"
    },
    "tags": []
   },
   "source": [
    "# **READING DATA FILE**"
   ]
  },
  {
   "cell_type": "markdown",
   "id": "a520ec92",
   "metadata": {
    "papermill": {
     "duration": 0.017545,
     "end_time": "2023-02-12T12:02:36.569458",
     "exception": false,
     "start_time": "2023-02-12T12:02:36.551913",
     "status": "completed"
    },
    "tags": []
   },
   "source": []
  },
  {
   "cell_type": "code",
   "execution_count": 118,
   "id": "650ab70c",
   "metadata": {
    "execution": {
     "iopub.execute_input": "2023-02-12T12:02:36.607952Z",
     "iopub.status.busy": "2023-02-12T12:02:36.607153Z",
     "iopub.status.idle": "2023-02-12T12:02:36.648525Z",
     "shell.execute_reply": "2023-02-12T12:02:36.647331Z"
    },
    "id": "IRLLQswzbgHs",
    "outputId": "f63bfcba-941a-403c-e72f-4d79001f2c26",
    "papermill": {
     "duration": 0.063866,
     "end_time": "2023-02-12T12:02:36.651314",
     "exception": false,
     "start_time": "2023-02-12T12:02:36.587448",
     "status": "completed"
    },
    "tags": []
   },
   "outputs": [
    {
     "data": {
      "text/html": [
       "<div>\n",
       "<style scoped>\n",
       "    .dataframe tbody tr th:only-of-type {\n",
       "        vertical-align: middle;\n",
       "    }\n",
       "\n",
       "    .dataframe tbody tr th {\n",
       "        vertical-align: top;\n",
       "    }\n",
       "\n",
       "    .dataframe thead th {\n",
       "        text-align: right;\n",
       "    }\n",
       "</style>\n",
       "<table border=\"1\" class=\"dataframe\">\n",
       "  <thead>\n",
       "    <tr style=\"text-align: right;\">\n",
       "      <th></th>\n",
       "      <th>N_SOIL</th>\n",
       "      <th>P_SOIL</th>\n",
       "      <th>K_SOIL</th>\n",
       "      <th>TEMPERATURE</th>\n",
       "      <th>HUMIDITY</th>\n",
       "      <th>ph</th>\n",
       "      <th>RAINFALL</th>\n",
       "      <th>STATE</th>\n",
       "      <th>CROP_PRICE</th>\n",
       "      <th>CROP</th>\n",
       "    </tr>\n",
       "  </thead>\n",
       "  <tbody>\n",
       "    <tr>\n",
       "      <th>0</th>\n",
       "      <td>90</td>\n",
       "      <td>42</td>\n",
       "      <td>43</td>\n",
       "      <td>20.879744</td>\n",
       "      <td>82.002744</td>\n",
       "      <td>6.502985</td>\n",
       "      <td>202.935536</td>\n",
       "      <td>Andaman and Nicobar</td>\n",
       "      <td>7000</td>\n",
       "      <td>Rice</td>\n",
       "    </tr>\n",
       "    <tr>\n",
       "      <th>1</th>\n",
       "      <td>85</td>\n",
       "      <td>58</td>\n",
       "      <td>41</td>\n",
       "      <td>21.770462</td>\n",
       "      <td>80.319644</td>\n",
       "      <td>7.038096</td>\n",
       "      <td>226.655537</td>\n",
       "      <td>Andaman and Nicobar</td>\n",
       "      <td>5000</td>\n",
       "      <td>Rice</td>\n",
       "    </tr>\n",
       "    <tr>\n",
       "      <th>2</th>\n",
       "      <td>60</td>\n",
       "      <td>55</td>\n",
       "      <td>44</td>\n",
       "      <td>23.004459</td>\n",
       "      <td>82.320763</td>\n",
       "      <td>7.840207</td>\n",
       "      <td>263.964248</td>\n",
       "      <td>Andaman and Nicobar</td>\n",
       "      <td>7000</td>\n",
       "      <td>Rice</td>\n",
       "    </tr>\n",
       "    <tr>\n",
       "      <th>3</th>\n",
       "      <td>74</td>\n",
       "      <td>35</td>\n",
       "      <td>40</td>\n",
       "      <td>26.491096</td>\n",
       "      <td>80.158363</td>\n",
       "      <td>6.980401</td>\n",
       "      <td>242.864034</td>\n",
       "      <td>Andaman and Nicobar</td>\n",
       "      <td>7000</td>\n",
       "      <td>Rice</td>\n",
       "    </tr>\n",
       "    <tr>\n",
       "      <th>4</th>\n",
       "      <td>78</td>\n",
       "      <td>42</td>\n",
       "      <td>42</td>\n",
       "      <td>20.130175</td>\n",
       "      <td>81.604873</td>\n",
       "      <td>7.628473</td>\n",
       "      <td>262.717340</td>\n",
       "      <td>Andaman and Nicobar</td>\n",
       "      <td>120000</td>\n",
       "      <td>Rice</td>\n",
       "    </tr>\n",
       "  </tbody>\n",
       "</table>\n",
       "</div>"
      ],
      "text/plain": [
       "   N_SOIL  P_SOIL  K_SOIL  TEMPERATURE   HUMIDITY        ph    RAINFALL  \\\n",
       "0      90      42      43    20.879744  82.002744  6.502985  202.935536   \n",
       "1      85      58      41    21.770462  80.319644  7.038096  226.655537   \n",
       "2      60      55      44    23.004459  82.320763  7.840207  263.964248   \n",
       "3      74      35      40    26.491096  80.158363  6.980401  242.864034   \n",
       "4      78      42      42    20.130175  81.604873  7.628473  262.717340   \n",
       "\n",
       "                 STATE  CROP_PRICE  CROP  \n",
       "0  Andaman and Nicobar        7000  Rice  \n",
       "1  Andaman and Nicobar        5000  Rice  \n",
       "2  Andaman and Nicobar        7000  Rice  \n",
       "3  Andaman and Nicobar        7000  Rice  \n",
       "4  Andaman and Nicobar      120000  Rice  "
      ]
     },
     "execution_count": 118,
     "metadata": {},
     "output_type": "execute_result"
    }
   ],
   "source": [
    "df=pd.read_csv(\"indiancrop_dataset.csv\")\n",
    "df.head()"
   ]
  },
  {
   "cell_type": "code",
   "execution_count": 119,
   "id": "b284a09f",
   "metadata": {
    "execution": {
     "iopub.execute_input": "2023-02-12T12:02:36.691088Z",
     "iopub.status.busy": "2023-02-12T12:02:36.690315Z",
     "iopub.status.idle": "2023-02-12T12:02:36.716066Z",
     "shell.execute_reply": "2023-02-12T12:02:36.714450Z"
    },
    "id": "O0_PAPWxb_0i",
    "outputId": "65e217b5-66df-406b-d611-cae86ac8818e",
    "papermill": {
     "duration": 0.048429,
     "end_time": "2023-02-12T12:02:36.718976",
     "exception": false,
     "start_time": "2023-02-12T12:02:36.670547",
     "status": "completed"
    },
    "tags": []
   },
   "outputs": [
    {
     "name": "stdout",
     "output_type": "stream",
     "text": [
      "<class 'pandas.core.frame.DataFrame'>\n",
      "RangeIndex: 2200 entries, 0 to 2199\n",
      "Data columns (total 10 columns):\n",
      " #   Column       Non-Null Count  Dtype  \n",
      "---  ------       --------------  -----  \n",
      " 0   N_SOIL       2200 non-null   int64  \n",
      " 1   P_SOIL       2200 non-null   int64  \n",
      " 2   K_SOIL       2200 non-null   int64  \n",
      " 3   TEMPERATURE  2200 non-null   float64\n",
      " 4   HUMIDITY     2200 non-null   float64\n",
      " 5   ph           2200 non-null   float64\n",
      " 6   RAINFALL     2200 non-null   float64\n",
      " 7   STATE        2200 non-null   object \n",
      " 8   CROP_PRICE   2200 non-null   int64  \n",
      " 9   CROP         2200 non-null   object \n",
      "dtypes: float64(4), int64(4), object(2)\n",
      "memory usage: 172.0+ KB\n"
     ]
    }
   ],
   "source": [
    "df.info()"
   ]
  },
  {
   "cell_type": "markdown",
   "id": "83a21f9b",
   "metadata": {
    "papermill": {
     "duration": 0.018054,
     "end_time": "2023-02-12T12:02:36.755599",
     "exception": false,
     "start_time": "2023-02-12T12:02:36.737545",
     "status": "completed"
    },
    "tags": []
   },
   "source": [
    "# **DATA PREPROCESSING**"
   ]
  },
  {
   "cell_type": "code",
   "execution_count": 120,
   "id": "f638b0f5",
   "metadata": {
    "execution": {
     "iopub.execute_input": "2023-02-12T12:02:36.794251Z",
     "iopub.status.busy": "2023-02-12T12:02:36.793674Z",
     "iopub.status.idle": "2023-02-12T12:02:36.804320Z",
     "shell.execute_reply": "2023-02-12T12:02:36.803012Z"
    },
    "id": "lpjAz7QyfoNr",
    "outputId": "de9eb70f-46f5-4b1a-fbab-688bf9e44181",
    "papermill": {
     "duration": 0.032565,
     "end_time": "2023-02-12T12:02:36.806618",
     "exception": false,
     "start_time": "2023-02-12T12:02:36.774053",
     "status": "completed"
    },
    "tags": []
   },
   "outputs": [
    {
     "data": {
      "text/plain": [
       "N_SOIL         0\n",
       "P_SOIL         0\n",
       "K_SOIL         0\n",
       "TEMPERATURE    0\n",
       "HUMIDITY       0\n",
       "ph             0\n",
       "RAINFALL       0\n",
       "STATE          0\n",
       "CROP_PRICE     0\n",
       "CROP           0\n",
       "dtype: int64"
      ]
     },
     "execution_count": 120,
     "metadata": {},
     "output_type": "execute_result"
    }
   ],
   "source": [
    "df.isnull().sum()"
   ]
  },
  {
   "cell_type": "code",
   "execution_count": 121,
   "id": "c6058fb7",
   "metadata": {
    "execution": {
     "iopub.execute_input": "2023-02-12T12:02:37.261364Z",
     "iopub.status.busy": "2023-02-12T12:02:37.260630Z",
     "iopub.status.idle": "2023-02-12T12:02:37.274356Z",
     "shell.execute_reply": "2023-02-12T12:02:37.273166Z"
    },
    "id": "KyrgZYHfz2rZ",
    "outputId": "3e3c11b8-6c4c-44da-a610-d0dc4f5a6278",
    "papermill": {
     "duration": 0.037401,
     "end_time": "2023-02-12T12:02:37.276759",
     "exception": false,
     "start_time": "2023-02-12T12:02:37.239358",
     "status": "completed"
    },
    "tags": []
   },
   "outputs": [
    {
     "data": {
      "text/plain": [
       "N_SOIL          137\n",
       "P_SOIL          117\n",
       "K_SOIL           73\n",
       "TEMPERATURE    2200\n",
       "HUMIDITY       2200\n",
       "ph             2200\n",
       "RAINFALL       2200\n",
       "STATE            26\n",
       "CROP_PRICE      502\n",
       "CROP             22\n",
       "dtype: int64"
      ]
     },
     "execution_count": 121,
     "metadata": {},
     "output_type": "execute_result"
    }
   ],
   "source": [
    "df.nunique()"
   ]
  },
  {
   "cell_type": "code",
   "execution_count": 122,
   "id": "f02787db",
   "metadata": {
    "execution": {
     "iopub.execute_input": "2023-02-12T12:02:37.317392Z",
     "iopub.status.busy": "2023-02-12T12:02:37.316950Z",
     "iopub.status.idle": "2023-02-12T12:02:37.324647Z",
     "shell.execute_reply": "2023-02-12T12:02:37.323294Z"
    },
    "id": "rOsjQjyf0PTY",
    "outputId": "b61c793c-24af-48e5-f0be-8b0aa675781a",
    "papermill": {
     "duration": 0.031106,
     "end_time": "2023-02-12T12:02:37.327103",
     "exception": false,
     "start_time": "2023-02-12T12:02:37.295997",
     "status": "completed"
    },
    "tags": []
   },
   "outputs": [
    {
     "data": {
      "text/plain": [
       "array(['Rice', 'Maize', 'ChickPea', 'KidneyBeans', 'PigeonPeas',\n",
       "       'MothBeans', 'MungBean', 'Blackgram', 'Lentil', 'Pomegranate',\n",
       "       'Banana', 'Mango', 'Grapes', 'Watermelon', 'Muskmelon', 'Apple',\n",
       "       'Orange', 'Papaya', 'Coconut', 'Cotton', 'Jute', 'Coffee'],\n",
       "      dtype=object)"
      ]
     },
     "execution_count": 122,
     "metadata": {},
     "output_type": "execute_result"
    }
   ],
   "source": [
    "df.CROP.unique()"
   ]
  },
  {
   "cell_type": "code",
   "execution_count": 123,
   "id": "91f572ed",
   "metadata": {
    "execution": {
     "iopub.execute_input": "2023-02-12T12:02:37.368267Z",
     "iopub.status.busy": "2023-02-12T12:02:37.367866Z",
     "iopub.status.idle": "2023-02-12T12:02:37.374562Z",
     "shell.execute_reply": "2023-02-12T12:02:37.373641Z"
    },
    "id": "UZawTrvfcU0W",
    "papermill": {
     "duration": 0.029798,
     "end_time": "2023-02-12T12:02:37.376588",
     "exception": false,
     "start_time": "2023-02-12T12:02:37.346790",
     "status": "completed"
    },
    "tags": []
   },
   "outputs": [],
   "source": [
    "df.drop(['STATE'],axis=1,inplace=True)"
   ]
  },
  {
   "cell_type": "code",
   "execution_count": 124,
   "id": "11237e91",
   "metadata": {
    "execution": {
     "iopub.execute_input": "2023-02-12T12:02:37.417433Z",
     "iopub.status.busy": "2023-02-12T12:02:37.416649Z",
     "iopub.status.idle": "2023-02-12T12:02:37.435774Z",
     "shell.execute_reply": "2023-02-12T12:02:37.434543Z"
    },
    "id": "pfEhVcYpgpOW",
    "outputId": "8dadc739-a408-4c66-f017-de7d94403901",
    "papermill": {
     "duration": 0.042164,
     "end_time": "2023-02-12T12:02:37.438155",
     "exception": false,
     "start_time": "2023-02-12T12:02:37.395991",
     "status": "completed"
    },
    "tags": []
   },
   "outputs": [
    {
     "data": {
      "text/html": [
       "<div>\n",
       "<style scoped>\n",
       "    .dataframe tbody tr th:only-of-type {\n",
       "        vertical-align: middle;\n",
       "    }\n",
       "\n",
       "    .dataframe tbody tr th {\n",
       "        vertical-align: top;\n",
       "    }\n",
       "\n",
       "    .dataframe thead th {\n",
       "        text-align: right;\n",
       "    }\n",
       "</style>\n",
       "<table border=\"1\" class=\"dataframe\">\n",
       "  <thead>\n",
       "    <tr style=\"text-align: right;\">\n",
       "      <th></th>\n",
       "      <th>N_SOIL</th>\n",
       "      <th>P_SOIL</th>\n",
       "      <th>K_SOIL</th>\n",
       "      <th>TEMPERATURE</th>\n",
       "      <th>HUMIDITY</th>\n",
       "      <th>ph</th>\n",
       "      <th>RAINFALL</th>\n",
       "      <th>CROP_PRICE</th>\n",
       "      <th>CROP</th>\n",
       "    </tr>\n",
       "  </thead>\n",
       "  <tbody>\n",
       "    <tr>\n",
       "      <th>0</th>\n",
       "      <td>90</td>\n",
       "      <td>42</td>\n",
       "      <td>43</td>\n",
       "      <td>20.879744</td>\n",
       "      <td>82.002744</td>\n",
       "      <td>6.502985</td>\n",
       "      <td>202.935536</td>\n",
       "      <td>7000</td>\n",
       "      <td>Rice</td>\n",
       "    </tr>\n",
       "    <tr>\n",
       "      <th>1</th>\n",
       "      <td>85</td>\n",
       "      <td>58</td>\n",
       "      <td>41</td>\n",
       "      <td>21.770462</td>\n",
       "      <td>80.319644</td>\n",
       "      <td>7.038096</td>\n",
       "      <td>226.655537</td>\n",
       "      <td>5000</td>\n",
       "      <td>Rice</td>\n",
       "    </tr>\n",
       "    <tr>\n",
       "      <th>2</th>\n",
       "      <td>60</td>\n",
       "      <td>55</td>\n",
       "      <td>44</td>\n",
       "      <td>23.004459</td>\n",
       "      <td>82.320763</td>\n",
       "      <td>7.840207</td>\n",
       "      <td>263.964248</td>\n",
       "      <td>7000</td>\n",
       "      <td>Rice</td>\n",
       "    </tr>\n",
       "    <tr>\n",
       "      <th>3</th>\n",
       "      <td>74</td>\n",
       "      <td>35</td>\n",
       "      <td>40</td>\n",
       "      <td>26.491096</td>\n",
       "      <td>80.158363</td>\n",
       "      <td>6.980401</td>\n",
       "      <td>242.864034</td>\n",
       "      <td>7000</td>\n",
       "      <td>Rice</td>\n",
       "    </tr>\n",
       "    <tr>\n",
       "      <th>4</th>\n",
       "      <td>78</td>\n",
       "      <td>42</td>\n",
       "      <td>42</td>\n",
       "      <td>20.130175</td>\n",
       "      <td>81.604873</td>\n",
       "      <td>7.628473</td>\n",
       "      <td>262.717340</td>\n",
       "      <td>120000</td>\n",
       "      <td>Rice</td>\n",
       "    </tr>\n",
       "    <tr>\n",
       "      <th>...</th>\n",
       "      <td>...</td>\n",
       "      <td>...</td>\n",
       "      <td>...</td>\n",
       "      <td>...</td>\n",
       "      <td>...</td>\n",
       "      <td>...</td>\n",
       "      <td>...</td>\n",
       "      <td>...</td>\n",
       "      <td>...</td>\n",
       "    </tr>\n",
       "    <tr>\n",
       "      <th>2195</th>\n",
       "      <td>107</td>\n",
       "      <td>34</td>\n",
       "      <td>32</td>\n",
       "      <td>26.774637</td>\n",
       "      <td>66.413269</td>\n",
       "      <td>6.780064</td>\n",
       "      <td>177.774507</td>\n",
       "      <td>1000</td>\n",
       "      <td>Coffee</td>\n",
       "    </tr>\n",
       "    <tr>\n",
       "      <th>2196</th>\n",
       "      <td>99</td>\n",
       "      <td>15</td>\n",
       "      <td>27</td>\n",
       "      <td>27.417112</td>\n",
       "      <td>56.636362</td>\n",
       "      <td>6.086922</td>\n",
       "      <td>127.924610</td>\n",
       "      <td>800</td>\n",
       "      <td>Coffee</td>\n",
       "    </tr>\n",
       "    <tr>\n",
       "      <th>2197</th>\n",
       "      <td>118</td>\n",
       "      <td>33</td>\n",
       "      <td>30</td>\n",
       "      <td>24.131797</td>\n",
       "      <td>67.225123</td>\n",
       "      <td>6.362608</td>\n",
       "      <td>173.322839</td>\n",
       "      <td>560</td>\n",
       "      <td>Coffee</td>\n",
       "    </tr>\n",
       "    <tr>\n",
       "      <th>2198</th>\n",
       "      <td>117</td>\n",
       "      <td>32</td>\n",
       "      <td>34</td>\n",
       "      <td>26.272418</td>\n",
       "      <td>52.127394</td>\n",
       "      <td>6.758793</td>\n",
       "      <td>127.175293</td>\n",
       "      <td>1500</td>\n",
       "      <td>Coffee</td>\n",
       "    </tr>\n",
       "    <tr>\n",
       "      <th>2199</th>\n",
       "      <td>104</td>\n",
       "      <td>18</td>\n",
       "      <td>30</td>\n",
       "      <td>23.603016</td>\n",
       "      <td>60.396475</td>\n",
       "      <td>6.779833</td>\n",
       "      <td>140.937041</td>\n",
       "      <td>1400</td>\n",
       "      <td>Coffee</td>\n",
       "    </tr>\n",
       "  </tbody>\n",
       "</table>\n",
       "<p>2200 rows × 9 columns</p>\n",
       "</div>"
      ],
      "text/plain": [
       "      N_SOIL  P_SOIL  K_SOIL  TEMPERATURE   HUMIDITY        ph    RAINFALL  \\\n",
       "0         90      42      43    20.879744  82.002744  6.502985  202.935536   \n",
       "1         85      58      41    21.770462  80.319644  7.038096  226.655537   \n",
       "2         60      55      44    23.004459  82.320763  7.840207  263.964248   \n",
       "3         74      35      40    26.491096  80.158363  6.980401  242.864034   \n",
       "4         78      42      42    20.130175  81.604873  7.628473  262.717340   \n",
       "...      ...     ...     ...          ...        ...       ...         ...   \n",
       "2195     107      34      32    26.774637  66.413269  6.780064  177.774507   \n",
       "2196      99      15      27    27.417112  56.636362  6.086922  127.924610   \n",
       "2197     118      33      30    24.131797  67.225123  6.362608  173.322839   \n",
       "2198     117      32      34    26.272418  52.127394  6.758793  127.175293   \n",
       "2199     104      18      30    23.603016  60.396475  6.779833  140.937041   \n",
       "\n",
       "      CROP_PRICE    CROP  \n",
       "0           7000    Rice  \n",
       "1           5000    Rice  \n",
       "2           7000    Rice  \n",
       "3           7000    Rice  \n",
       "4         120000    Rice  \n",
       "...          ...     ...  \n",
       "2195        1000  Coffee  \n",
       "2196         800  Coffee  \n",
       "2197         560  Coffee  \n",
       "2198        1500  Coffee  \n",
       "2199        1400  Coffee  \n",
       "\n",
       "[2200 rows x 9 columns]"
      ]
     },
     "execution_count": 124,
     "metadata": {},
     "output_type": "execute_result"
    }
   ],
   "source": [
    "df"
   ]
  },
  {
   "cell_type": "markdown",
   "id": "57994f7c",
   "metadata": {
    "papermill": {
     "duration": 0.020238,
     "end_time": "2023-02-12T12:02:37.478926",
     "exception": false,
     "start_time": "2023-02-12T12:02:37.458688",
     "status": "completed"
    },
    "tags": []
   },
   "source": [
    "# **SKEWNESS**"
   ]
  },
  {
   "cell_type": "code",
   "execution_count": 125,
   "id": "c33824da",
   "metadata": {
    "execution": {
     "iopub.execute_input": "2023-02-12T12:02:37.579236Z",
     "iopub.status.busy": "2023-02-12T12:02:37.578459Z",
     "iopub.status.idle": "2023-02-12T12:02:37.584686Z",
     "shell.execute_reply": "2023-02-12T12:02:37.583665Z"
    },
    "id": "20hfwUjrhDON",
    "papermill": {
     "duration": 0.030518,
     "end_time": "2023-02-12T12:02:37.586940",
     "exception": false,
     "start_time": "2023-02-12T12:02:37.556422",
     "status": "completed"
    },
    "tags": []
   },
   "outputs": [],
   "source": [
    "# df.P_SOIL=np.log(df['P_SOIL'])"
   ]
  },
  {
   "cell_type": "code",
   "execution_count": 126,
   "id": "54b12c69",
   "metadata": {
    "execution": {
     "iopub.execute_input": "2023-02-12T12:02:37.630250Z",
     "iopub.status.busy": "2023-02-12T12:02:37.629602Z",
     "iopub.status.idle": "2023-02-12T12:02:37.635395Z",
     "shell.execute_reply": "2023-02-12T12:02:37.634433Z"
    },
    "id": "BPnMsKEPdH9q",
    "papermill": {
     "duration": 0.029925,
     "end_time": "2023-02-12T12:02:37.637613",
     "exception": false,
     "start_time": "2023-02-12T12:02:37.607688",
     "status": "completed"
    },
    "tags": []
   },
   "outputs": [],
   "source": [
    "# df.K_SOIL=np.log(df['K_SOIL'])"
   ]
  },
  {
   "cell_type": "code",
   "execution_count": 127,
   "id": "9422ecfe",
   "metadata": {
    "execution": {
     "iopub.execute_input": "2023-02-12T12:02:37.682460Z",
     "iopub.status.busy": "2023-02-12T12:02:37.681834Z",
     "iopub.status.idle": "2023-02-12T12:02:37.688079Z",
     "shell.execute_reply": "2023-02-12T12:02:37.686929Z"
    },
    "id": "FLy_jKBXsShN",
    "papermill": {
     "duration": 0.032063,
     "end_time": "2023-02-12T12:02:37.690468",
     "exception": false,
     "start_time": "2023-02-12T12:02:37.658405",
     "status": "completed"
    },
    "tags": []
   },
   "outputs": [],
   "source": [
    "# df['HUMIDITY']=np.log(df['HUMIDITY'])"
   ]
  },
  {
   "cell_type": "code",
   "execution_count": 128,
   "id": "c49ba9e4",
   "metadata": {
    "execution": {
     "iopub.execute_input": "2023-02-12T12:02:37.734760Z",
     "iopub.status.busy": "2023-02-12T12:02:37.734344Z",
     "iopub.status.idle": "2023-02-12T12:02:37.744920Z",
     "shell.execute_reply": "2023-02-12T12:02:37.743739Z"
    },
    "id": "h1gLwSzMktz1",
    "outputId": "a304166c-e1c4-4917-d1c3-44d1d3c31c84",
    "papermill": {
     "duration": 0.035616,
     "end_time": "2023-02-12T12:02:37.747331",
     "exception": false,
     "start_time": "2023-02-12T12:02:37.711715",
     "status": "completed"
    },
    "tags": []
   },
   "outputs": [],
   "source": [
    "# iq1=df['CROP_PRICE'].quantile(0.25)\n",
    "# iq2=df['CROP_PRICE'].quantile(0.75)\n",
    "# df['CROP_PRICE']=np.where(df['CROP_PRICE']<iq1,iq1,df['CROP_PRICE'])\n",
    "# df['CROP_PRICE']=np.where(df['CROP_PRICE']>iq2,iq2,df['CROP_PRICE'])"
   ]
  },
  {
   "cell_type": "code",
   "execution_count": 129,
   "id": "51368273",
   "metadata": {
    "execution": {
     "iopub.execute_input": "2023-02-12T12:02:37.791675Z",
     "iopub.status.busy": "2023-02-12T12:02:37.791209Z",
     "iopub.status.idle": "2023-02-12T12:02:37.797428Z",
     "shell.execute_reply": "2023-02-12T12:02:37.796497Z"
    },
    "id": "3jcXVgOqlU7h",
    "outputId": "9bfb22c2-4dbe-4cbf-f646-b103f42a1735",
    "papermill": {
     "duration": 0.031201,
     "end_time": "2023-02-12T12:02:37.799566",
     "exception": false,
     "start_time": "2023-02-12T12:02:37.768365",
     "status": "completed"
    },
    "tags": []
   },
   "outputs": [],
   "source": [
    "# iq2"
   ]
  },
  {
   "cell_type": "code",
   "execution_count": 130,
   "id": "987dc375",
   "metadata": {
    "execution": {
     "iopub.execute_input": "2023-02-12T12:02:37.844782Z",
     "iopub.status.busy": "2023-02-12T12:02:37.843948Z",
     "iopub.status.idle": "2023-02-12T12:02:37.851952Z",
     "shell.execute_reply": "2023-02-12T12:02:37.850811Z"
    },
    "id": "f50PMganmrZx",
    "papermill": {
     "duration": 0.033787,
     "end_time": "2023-02-12T12:02:37.854449",
     "exception": false,
     "start_time": "2023-02-12T12:02:37.820662",
     "status": "completed"
    },
    "tags": []
   },
   "outputs": [],
   "source": [
    "# df['CROP_PRICE']=np.where(df['CROP_PRICE']<iq1,iq1,df['CROP_PRICE'])\n",
    "# df['CROP_PRICE']=np.where(df['CROP_PRICE']>iq2,iq2,df['CROP_PRICE'])"
   ]
  },
  {
   "cell_type": "markdown",
   "id": "b63d8542",
   "metadata": {
    "papermill": {
     "duration": 0.021503,
     "end_time": "2023-02-12T12:02:37.954808",
     "exception": false,
     "start_time": "2023-02-12T12:02:37.933305",
     "status": "completed"
    },
    "tags": []
   },
   "source": [
    "# **ENCODING CATEGORICAL INTO NUMERICAL**"
   ]
  },
  {
   "cell_type": "code",
   "execution_count": 131,
   "id": "64ad842d",
   "metadata": {
    "execution": {
     "iopub.execute_input": "2023-02-12T12:02:38.000611Z",
     "iopub.status.busy": "2023-02-12T12:02:37.999795Z",
     "iopub.status.idle": "2023-02-12T12:02:38.127042Z",
     "shell.execute_reply": "2023-02-12T12:02:38.125826Z"
    },
    "id": "jtdesAoT28zi",
    "papermill": {
     "duration": 0.153413,
     "end_time": "2023-02-12T12:02:38.129698",
     "exception": false,
     "start_time": "2023-02-12T12:02:37.976285",
     "status": "completed"
    },
    "tags": []
   },
   "outputs": [],
   "source": [
    "from sklearn.preprocessing import LabelEncoder\n",
    "le=LabelEncoder()\n",
    "df['CROP']=le.fit_transform(df['CROP'])\n"
   ]
  },
  {
   "cell_type": "code",
   "execution_count": 132,
   "id": "0e49cdc6",
   "metadata": {},
   "outputs": [
    {
     "data": {
      "image/png": "[encoded data removed]",
      "text/plain": [
       "<Figure size 1000x800 with 2 Axes>"
      ]
     },
     "metadata": {},
     "output_type": "display_data"
    }
   ],
   "source": [
    "corr = df.corr().abs()\n",
    "plt.figure(figsize=(10, 8))\n",
    "sns.heatmap(corr, annot=True, cmap='coolwarm', fmt=\".2f\", annot_kws={\"size\": 12})\n",
    "plt.title('Absolute Correlation Heatmap')\n",
    "plt.show()"
   ]
  },
  {
   "cell_type": "markdown",
   "id": "59b20dc9",
   "metadata": {
    "papermill": {
     "duration": 0.021787,
     "end_time": "2023-02-12T12:02:38.173823",
     "exception": false,
     "start_time": "2023-02-12T12:02:38.152036",
     "status": "completed"
    },
    "tags": []
   },
   "source": [
    "# **SPLITING OF FEATURES**"
   ]
  },
  {
   "cell_type": "code",
   "execution_count": 133,
   "id": "bfb39cd5",
   "metadata": {
    "execution": {
     "iopub.execute_input": "2023-02-12T12:02:38.218714Z",
     "iopub.status.busy": "2023-02-12T12:02:38.218302Z",
     "iopub.status.idle": "2023-02-12T12:02:38.237030Z",
     "shell.execute_reply": "2023-02-12T12:02:38.235983Z"
    },
    "id": "dqOUD6ochs_l",
    "outputId": "ca861bef-8636-43a4-94bc-dd14e5ac3711",
    "papermill": {
     "duration": 0.04394,
     "end_time": "2023-02-12T12:02:38.239395",
     "exception": false,
     "start_time": "2023-02-12T12:02:38.195455",
     "status": "completed"
    },
    "tags": []
   },
   "outputs": [
    {
     "data": {
      "text/html": [
       "<div>\n",
       "<style scoped>\n",
       "    .dataframe tbody tr th:only-of-type {\n",
       "        vertical-align: middle;\n",
       "    }\n",
       "\n",
       "    .dataframe tbody tr th {\n",
       "        vertical-align: top;\n",
       "    }\n",
       "\n",
       "    .dataframe thead th {\n",
       "        text-align: right;\n",
       "    }\n",
       "</style>\n",
       "<table border=\"1\" class=\"dataframe\">\n",
       "  <thead>\n",
       "    <tr style=\"text-align: right;\">\n",
       "      <th></th>\n",
       "      <th>N_SOIL</th>\n",
       "      <th>P_SOIL</th>\n",
       "      <th>K_SOIL</th>\n",
       "      <th>TEMPERATURE</th>\n",
       "      <th>HUMIDITY</th>\n",
       "      <th>ph</th>\n",
       "      <th>RAINFALL</th>\n",
       "      <th>CROP_PRICE</th>\n",
       "    </tr>\n",
       "  </thead>\n",
       "  <tbody>\n",
       "    <tr>\n",
       "      <th>0</th>\n",
       "      <td>90</td>\n",
       "      <td>42</td>\n",
       "      <td>43</td>\n",
       "      <td>20.879744</td>\n",
       "      <td>82.002744</td>\n",
       "      <td>6.502985</td>\n",
       "      <td>202.935536</td>\n",
       "      <td>7000</td>\n",
       "    </tr>\n",
       "    <tr>\n",
       "      <th>1</th>\n",
       "      <td>85</td>\n",
       "      <td>58</td>\n",
       "      <td>41</td>\n",
       "      <td>21.770462</td>\n",
       "      <td>80.319644</td>\n",
       "      <td>7.038096</td>\n",
       "      <td>226.655537</td>\n",
       "      <td>5000</td>\n",
       "    </tr>\n",
       "    <tr>\n",
       "      <th>2</th>\n",
       "      <td>60</td>\n",
       "      <td>55</td>\n",
       "      <td>44</td>\n",
       "      <td>23.004459</td>\n",
       "      <td>82.320763</td>\n",
       "      <td>7.840207</td>\n",
       "      <td>263.964248</td>\n",
       "      <td>7000</td>\n",
       "    </tr>\n",
       "    <tr>\n",
       "      <th>3</th>\n",
       "      <td>74</td>\n",
       "      <td>35</td>\n",
       "      <td>40</td>\n",
       "      <td>26.491096</td>\n",
       "      <td>80.158363</td>\n",
       "      <td>6.980401</td>\n",
       "      <td>242.864034</td>\n",
       "      <td>7000</td>\n",
       "    </tr>\n",
       "    <tr>\n",
       "      <th>4</th>\n",
       "      <td>78</td>\n",
       "      <td>42</td>\n",
       "      <td>42</td>\n",
       "      <td>20.130175</td>\n",
       "      <td>81.604873</td>\n",
       "      <td>7.628473</td>\n",
       "      <td>262.717340</td>\n",
       "      <td>120000</td>\n",
       "    </tr>\n",
       "  </tbody>\n",
       "</table>\n",
       "</div>"
      ],
      "text/plain": [
       "   N_SOIL  P_SOIL  K_SOIL  TEMPERATURE   HUMIDITY        ph    RAINFALL  \\\n",
       "0      90      42      43    20.879744  82.002744  6.502985  202.935536   \n",
       "1      85      58      41    21.770462  80.319644  7.038096  226.655537   \n",
       "2      60      55      44    23.004459  82.320763  7.840207  263.964248   \n",
       "3      74      35      40    26.491096  80.158363  6.980401  242.864034   \n",
       "4      78      42      42    20.130175  81.604873  7.628473  262.717340   \n",
       "\n",
       "   CROP_PRICE  \n",
       "0        7000  \n",
       "1        5000  \n",
       "2        7000  \n",
       "3        7000  \n",
       "4      120000  "
      ]
     },
     "execution_count": 133,
     "metadata": {},
     "output_type": "execute_result"
    }
   ],
   "source": [
    "x=df.iloc[:,0:8]\n",
    "y=df.iloc[:,8]\n",
    "x.head()"
   ]
  },
  {
   "cell_type": "code",
   "execution_count": 134,
   "id": "d663d8e1",
   "metadata": {},
   "outputs": [
    {
     "data": {
      "text/plain": [
       "array([[ 1.0687974 , -0.34455075, -0.1016875 , ...,  0.04330173,\n",
       "         1.8103605 ,  1.16208411],\n",
       "       [ 0.93332887,  0.14061552, -0.14118477, ...,  0.73487256,\n",
       "         2.24205791,  0.62293049],\n",
       "       [ 0.25598625,  0.04964684, -0.08193887, ...,  1.77151047,\n",
       "         2.92106603,  1.16208411],\n",
       "       ...,\n",
       "       [ 1.82742114, -0.61745677, -0.35841972, ..., -0.13812031,\n",
       "         1.27141766, -0.57399054],\n",
       "       [ 1.80032743, -0.64777967, -0.27942519, ...,  0.37390383,\n",
       "         0.43154519, -0.32058834],\n",
       "       [ 1.44810927, -1.07230015, -0.35841972, ...,  0.40109573,\n",
       "         0.68200518, -0.34754602]])"
      ]
     },
     "execution_count": 134,
     "metadata": {},
     "output_type": "execute_result"
    }
   ],
   "source": [
    "from sklearn.preprocessing import StandardScaler\n",
    "sc = StandardScaler()\n",
    "x = sc.fit_transform(x)\n",
    "x"
   ]
  },
  {
   "cell_type": "code",
   "execution_count": 135,
   "id": "b422fe92",
   "metadata": {
    "execution": {
     "iopub.execute_input": "2023-02-12T12:02:38.284113Z",
     "iopub.status.busy": "2023-02-12T12:02:38.283697Z",
     "iopub.status.idle": "2023-02-12T12:02:38.291190Z",
     "shell.execute_reply": "2023-02-12T12:02:38.290105Z"
    },
    "id": "kV15PkVYqrzq",
    "outputId": "ca0728d4-4491-4a42-ff4e-e4fd6313477b",
    "papermill": {
     "duration": 0.032499,
     "end_time": "2023-02-12T12:02:38.293465",
     "exception": false,
     "start_time": "2023-02-12T12:02:38.260966",
     "status": "completed"
    },
    "tags": []
   },
   "outputs": [
    {
     "data": {
      "text/plain": [
       "array([20, 11,  3,  9, 18, 13, 14,  2, 10, 19,  1, 12,  7, 21, 15,  0, 16,\n",
       "       17,  4,  6,  8,  5])"
      ]
     },
     "execution_count": 135,
     "metadata": {},
     "output_type": "execute_result"
    }
   ],
   "source": [
    "y.unique()"
   ]
  },
  {
   "cell_type": "markdown",
   "id": "c2334d90",
   "metadata": {
    "id": "DNeOjUiIrjHG",
    "papermill": {
     "duration": 0.021248,
     "end_time": "2023-02-12T12:02:38.336649",
     "exception": false,
     "start_time": "2023-02-12T12:02:38.315401",
     "status": "completed"
    },
    "tags": []
   },
   "source": [
    "###Training a model"
   ]
  },
  {
   "cell_type": "markdown",
   "id": "02f756d5",
   "metadata": {
    "papermill": {
     "duration": 0.021455,
     "end_time": "2023-02-12T12:02:38.380101",
     "exception": false,
     "start_time": "2023-02-12T12:02:38.358646",
     "status": "completed"
    },
    "tags": []
   },
   "source": [
    "**TRAIN-TEST-SPLIT**"
   ]
  },
  {
   "cell_type": "code",
   "execution_count": 136,
   "id": "ec41765d",
   "metadata": {
    "execution": {
     "iopub.execute_input": "2023-02-12T12:02:38.425103Z",
     "iopub.status.busy": "2023-02-12T12:02:38.424395Z",
     "iopub.status.idle": "2023-02-12T12:02:38.479728Z",
     "shell.execute_reply": "2023-02-12T12:02:38.478572Z"
    },
    "id": "5JB222eQrd_y",
    "papermill": {
     "duration": 0.081048,
     "end_time": "2023-02-12T12:02:38.482625",
     "exception": false,
     "start_time": "2023-02-12T12:02:38.401577",
     "status": "completed"
    },
    "tags": []
   },
   "outputs": [],
   "source": [
    "from sklearn.model_selection import train_test_split\n",
    "x_train,x_test,y_train,y_test=train_test_split(x,y,test_size=0.2,random_state=42)"
   ]
  },
  {
   "cell_type": "code",
   "execution_count": 137,
   "id": "0fd2189b",
   "metadata": {
    "execution": {
     "iopub.execute_input": "2023-02-12T12:02:38.527688Z",
     "iopub.status.busy": "2023-02-12T12:02:38.527276Z",
     "iopub.status.idle": "2023-02-12T12:02:38.532415Z",
     "shell.execute_reply": "2023-02-12T12:02:38.531557Z"
    },
    "id": "d0JOJgBYrlp6",
    "outputId": "aa15000d-9205-46c7-fbe6-abf28f6553a0",
    "papermill": {
     "duration": 0.030785,
     "end_time": "2023-02-12T12:02:38.535164",
     "exception": false,
     "start_time": "2023-02-12T12:02:38.504379",
     "status": "completed"
    },
    "tags": []
   },
   "outputs": [
    {
     "name": "stdout",
     "output_type": "stream",
     "text": [
      "Training data (1760, 8)\n"
     ]
    }
   ],
   "source": [
    "print(\"Training data\",x_train.shape)"
   ]
  },
  {
   "cell_type": "code",
   "execution_count": 138,
   "id": "369ad229",
   "metadata": {
    "execution": {
     "iopub.execute_input": "2023-02-12T12:02:38.580605Z",
     "iopub.status.busy": "2023-02-12T12:02:38.580219Z",
     "iopub.status.idle": "2023-02-12T12:02:38.585852Z",
     "shell.execute_reply": "2023-02-12T12:02:38.584761Z"
    },
    "id": "Xv9vd_XvroUy",
    "outputId": "a99edecd-e1bb-41ef-d240-375baea9152a",
    "papermill": {
     "duration": 0.031428,
     "end_time": "2023-02-12T12:02:38.588436",
     "exception": false,
     "start_time": "2023-02-12T12:02:38.557008",
     "status": "completed"
    },
    "tags": []
   },
   "outputs": [
    {
     "name": "stdout",
     "output_type": "stream",
     "text": [
      "Training data (440, 8)\n"
     ]
    }
   ],
   "source": [
    "print(\"Training data\",x_test.shape)"
   ]
  },
  {
   "cell_type": "markdown",
   "id": "43cb43fa",
   "metadata": {
    "papermill": {
     "duration": 0.022349,
     "end_time": "2023-02-12T12:02:38.632324",
     "exception": false,
     "start_time": "2023-02-12T12:02:38.609975",
     "status": "completed"
    },
    "tags": []
   },
   "source": [
    "# **IMPORTING ALGORITHM**\n",
    "\n",
    "**NAIVE BAYES**"
   ]
  },
  {
   "cell_type": "code",
   "execution_count": 139,
   "id": "cda0aec8",
   "metadata": {
    "execution": {
     "iopub.execute_input": "2023-02-12T12:02:38.679815Z",
     "iopub.status.busy": "2023-02-12T12:02:38.678627Z",
     "iopub.status.idle": "2023-02-12T12:02:38.686455Z",
     "shell.execute_reply": "2023-02-12T12:02:38.685529Z"
    },
    "id": "TPEuPsoji7W4",
    "papermill": {
     "duration": 0.03445,
     "end_time": "2023-02-12T12:02:38.688962",
     "exception": false,
     "start_time": "2023-02-12T12:02:38.654512",
     "status": "completed"
    },
    "tags": []
   },
   "outputs": [],
   "source": [
    "from sklearn.naive_bayes import GaussianNB\n",
    "model = GaussianNB()\n",
    "model.fit(x_train,y_train)"
   ]
  },
  {
   "cell_type": "code",
   "execution_count": 140,
   "id": "2c6b9dd5",
   "metadata": {
    "execution": {
     "iopub.execute_input": "2023-02-12T12:02:38.734685Z",
     "iopub.status.busy": "2023-02-12T12:02:38.733980Z",
     "iopub.status.idle": "2023-02-12T12:02:38.749695Z",
     "shell.execute_reply": "2023-02-12T12:02:38.748527Z"
    },
    "id": "u1q6OLbUi66g",
    "outputId": "c230e39b-a9f7-4fb5-9c58-467f8e1cf977",
    "papermill": {
     "duration": 0.0414,
     "end_time": "2023-02-12T12:02:38.752059",
     "exception": false,
     "start_time": "2023-02-12T12:02:38.710659",
     "status": "completed"
    },
    "tags": []
   },
   "outputs": [
    {
     "data": {
      "text/html": [
       "<style>#sk-container-id-4 {\n",
       "  /* Definition of color scheme common for light and dark mode */\n",
       "  --sklearn-color-text: black;\n",
       "  --sklearn-color-line: gray;\n",
       "  /* Definition of color scheme for unfitted estimators */\n",
       "  --sklearn-color-unfitted-level-0: #fff5e6;\n",
       "  --sklearn-color-unfitted-level-1: #f6e4d2;\n",
       "  --sklearn-color-unfitted-level-2: #ffe0b3;\n",
       "  --sklearn-color-unfitted-level-3: chocolate;\n",
       "  /* Definition of color scheme for fitted estimators */\n",
       "  --sklearn-color-fitted-level-0: #f0f8ff;\n",
       "  --sklearn-color-fitted-level-1: #d4ebff;\n",
       "  --sklearn-color-fitted-level-2: #b3dbfd;\n",
       "  --sklearn-color-fitted-level-3: cornflowerblue;\n",
       "\n",
       "  /* Specific color for light theme */\n",
       "  --sklearn-color-text-on-default-background: var(--sg-text-color, var(--theme-code-foreground, var(--jp-content-font-color1, black)));\n",
       "  --sklearn-color-background: var(--sg-background-color, var(--theme-background, var(--jp-layout-color0, white)));\n",
       "  --sklearn-color-border-box: var(--sg-text-color, var(--theme-code-foreground, var(--jp-content-font-color1, black)));\n",
       "  --sklearn-color-icon: #696969;\n",
       "\n",
       "  @media (prefers-color-scheme: dark) {\n",
       "    /* Redefinition of color scheme for dark theme */\n",
       "    --sklearn-color-text-on-default-background: var(--sg-text-color, var(--theme-code-foreground, var(--jp-content-font-color1, white)));\n",
       "    --sklearn-color-background: var(--sg-background-color, var(--theme-background, var(--jp-layout-color0, #111)));\n",
       "    --sklearn-color-border-box: var(--sg-text-color, var(--theme-code-foreground, var(--jp-content-font-color1, white)));\n",
       "    --sklearn-color-icon: #878787;\n",
       "  }\n",
       "}\n",
       "\n",
       "#sk-container-id-4 {\n",
       "  color: var(--sklearn-color-text);\n",
       "}\n",
       "\n",
       "#sk-container-id-4 pre {\n",
       "  padding: 0;\n",
       "}\n",
       "\n",
       "#sk-container-id-4 input.sk-hidden--visually {\n",
       "  border: 0;\n",
       "  clip: rect(1px 1px 1px 1px);\n",
       "  clip: rect(1px, 1px, 1px, 1px);\n",
       "  height: 1px;\n",
       "  margin: -1px;\n",
       "  overflow: hidden;\n",
       "  padding: 0;\n",
       "  position: absolute;\n",
       "  width: 1px;\n",
       "}\n",
       "\n",
       "#sk-container-id-4 div.sk-dashed-wrapped {\n",
       "  border: 1px dashed var(--sklearn-color-line);\n",
       "  margin: 0 0.4em 0.5em 0.4em;\n",
       "  box-sizing: border-box;\n",
       "  padding-bottom: 0.4em;\n",
       "  background-color: var(--sklearn-color-background);\n",
       "}\n",
       "\n",
       "#sk-container-id-4 div.sk-container {\n",
       "  /* jupyter's `normalize.less` sets `[hidden] { display: none; }`\n",
       "     but bootstrap.min.css set `[hidden] { display: none !important; }`\n",
       "     so we also need the `!important` here to be able to override the\n",
       "     default hidden behavior on the sphinx rendered scikit-learn.org.\n",
       "     See: https://github.com/scikit-learn/scikit-learn/issues/21755 */\n",
       "  display: inline-block !important;\n",
       "  position: relative;\n",
       "}\n",
       "\n",
       "#sk-container-id-4 div.sk-text-repr-fallback {\n",
       "  display: none;\n",
       "}\n",
       "\n",
       "div.sk-parallel-item,\n",
       "div.sk-serial,\n",
       "div.sk-item {\n",
       "  /* draw centered vertical line to link estimators */\n",
       "  background-image: linear-gradient(var(--sklearn-color-text-on-default-background), var(--sklearn-color-text-on-default-background));\n",
       "  background-size: 2px 100%;\n",
       "  background-repeat: no-repeat;\n",
       "  background-position: center center;\n",
       "}\n",
       "\n",
       "/* Parallel-specific style estimator block */\n",
       "\n",
       "#sk-container-id-4 div.sk-parallel-item::after {\n",
       "  content: \"\";\n",
       "  width: 100%;\n",
       "  border-bottom: 2px solid var(--sklearn-color-text-on-default-background);\n",
       "  flex-grow: 1;\n",
       "}\n",
       "\n",
       "#sk-container-id-4 div.sk-parallel {\n",
       "  display: flex;\n",
       "  align-items: stretch;\n",
       "  justify-content: center;\n",
       "  background-color: var(--sklearn-color-background);\n",
       "  position: relative;\n",
       "}\n",
       "\n",
       "#sk-container-id-4 div.sk-parallel-item {\n",
       "  display: flex;\n",
       "  flex-direction: column;\n",
       "}\n",
       "\n",
       "#sk-container-id-4 div.sk-parallel-item:first-child::after {\n",
       "  align-self: flex-end;\n",
       "  width: 50%;\n",
       "}\n",
       "\n",
       "#sk-container-id-4 div.sk-parallel-item:last-child::after {\n",
       "  align-self: flex-start;\n",
       "  width: 50%;\n",
       "}\n",
       "\n",
       "#sk-container-id-4 div.sk-parallel-item:only-child::after {\n",
       "  width: 0;\n",
       "}\n",
       "\n",
       "/* Serial-specific style estimator block */\n",
       "\n",
       "#sk-container-id-4 div.sk-serial {\n",
       "  display: flex;\n",
       "  flex-direction: column;\n",
       "  align-items: center;\n",
       "  background-color: var(--sklearn-color-background);\n",
       "  padding-right: 1em;\n",
       "  padding-left: 1em;\n",
       "}\n",
       "\n",
       "\n",
       "/* Toggleable style: style used for estimator/Pipeline/ColumnTransformer box that is\n",
       "clickable and can be expanded/collapsed.\n",
       "- Pipeline and ColumnTransformer use this feature and define the default style\n",
       "- Estimators will overwrite some part of the style using the `sk-estimator` class\n",
       "*/\n",
       "\n",
       "/* Pipeline and ColumnTransformer style (default) */\n",
       "\n",
       "#sk-container-id-4 div.sk-toggleable {\n",
       "  /* Default theme specific background. It is overwritten whether we have a\n",
       "  specific estimator or a Pipeline/ColumnTransformer */\n",
       "  background-color: var(--sklearn-color-background);\n",
       "}\n",
       "\n",
       "/* Toggleable label */\n",
       "#sk-container-id-4 label.sk-toggleable__label {\n",
       "  cursor: pointer;\n",
       "  display: block;\n",
       "  width: 100%;\n",
       "  margin-bottom: 0;\n",
       "  padding: 0.5em;\n",
       "  box-sizing: border-box;\n",
       "  text-align: center;\n",
       "}\n",
       "\n",
       "#sk-container-id-4 label.sk-toggleable__label-arrow:before {\n",
       "  /* Arrow on the left of the label */\n",
       "  content: \"▸\";\n",
       "  float: left;\n",
       "  margin-right: 0.25em;\n",
       "  color: var(--sklearn-color-icon);\n",
       "}\n",
       "\n",
       "#sk-container-id-4 label.sk-toggleable__label-arrow:hover:before {\n",
       "  color: var(--sklearn-color-text);\n",
       "}\n",
       "\n",
       "/* Toggleable content - dropdown */\n",
       "\n",
       "#sk-container-id-4 div.sk-toggleable__content {\n",
       "  max-height: 0;\n",
       "  max-width: 0;\n",
       "  overflow: hidden;\n",
       "  text-align: left;\n",
       "  /* unfitted */\n",
       "  background-color: var(--sklearn-color-unfitted-level-0);\n",
       "}\n",
       "\n",
       "#sk-container-id-4 div.sk-toggleable__content.fitted {\n",
       "  /* fitted */\n",
       "  background-color: var(--sklearn-color-fitted-level-0);\n",
       "}\n",
       "\n",
       "#sk-container-id-4 div.sk-toggleable__content pre {\n",
       "  margin: 0.2em;\n",
       "  border-radius: 0.25em;\n",
       "  color: var(--sklearn-color-text);\n",
       "  /* unfitted */\n",
       "  background-color: var(--sklearn-color-unfitted-level-0);\n",
       "}\n",
       "\n",
       "#sk-container-id-4 div.sk-toggleable__content.fitted pre {\n",
       "  /* unfitted */\n",
       "  background-color: var(--sklearn-color-fitted-level-0);\n",
       "}\n",
       "\n",
       "#sk-container-id-4 input.sk-toggleable__control:checked~div.sk-toggleable__content {\n",
       "  /* Expand drop-down */\n",
       "  max-height: 200px;\n",
       "  max-width: 100%;\n",
       "  overflow: auto;\n",
       "}\n",
       "\n",
       "#sk-container-id-4 input.sk-toggleable__control:checked~label.sk-toggleable__label-arrow:before {\n",
       "  content: \"▾\";\n",
       "}\n",
       "\n",
       "/* Pipeline/ColumnTransformer-specific style */\n",
       "\n",
       "#sk-container-id-4 div.sk-label input.sk-toggleable__control:checked~label.sk-toggleable__label {\n",
       "  color: var(--sklearn-color-text);\n",
       "  background-color: var(--sklearn-color-unfitted-level-2);\n",
       "}\n",
       "\n",
       "#sk-container-id-4 div.sk-label.fitted input.sk-toggleable__control:checked~label.sk-toggleable__label {\n",
       "  background-color: var(--sklearn-color-fitted-level-2);\n",
       "}\n",
       "\n",
       "/* Estimator-specific style */\n",
       "\n",
       "/* Colorize estimator box */\n",
       "#sk-container-id-4 div.sk-estimator input.sk-toggleable__control:checked~label.sk-toggleable__label {\n",
       "  /* unfitted */\n",
       "  background-color: var(--sklearn-color-unfitted-level-2);\n",
       "}\n",
       "\n",
       "#sk-container-id-4 div.sk-estimator.fitted input.sk-toggleable__control:checked~label.sk-toggleable__label {\n",
       "  /* fitted */\n",
       "  background-color: var(--sklearn-color-fitted-level-2);\n",
       "}\n",
       "\n",
       "#sk-container-id-4 div.sk-label label.sk-toggleable__label,\n",
       "#sk-container-id-4 div.sk-label label {\n",
       "  /* The background is the default theme color */\n",
       "  color: var(--sklearn-color-text-on-default-background);\n",
       "}\n",
       "\n",
       "/* On hover, darken the color of the background */\n",
       "#sk-container-id-4 div.sk-label:hover label.sk-toggleable__label {\n",
       "  color: var(--sklearn-color-text);\n",
       "  background-color: var(--sklearn-color-unfitted-level-2);\n",
       "}\n",
       "\n",
       "/* Label box, darken color on hover, fitted */\n",
       "#sk-container-id-4 div.sk-label.fitted:hover label.sk-toggleable__label.fitted {\n",
       "  color: var(--sklearn-color-text);\n",
       "  background-color: var(--sklearn-color-fitted-level-2);\n",
       "}\n",
       "\n",
       "/* Estimator label */\n",
       "\n",
       "#sk-container-id-4 div.sk-label label {\n",
       "  font-family: monospace;\n",
       "  font-weight: bold;\n",
       "  display: inline-block;\n",
       "  line-height: 1.2em;\n",
       "}\n",
       "\n",
       "#sk-container-id-4 div.sk-label-container {\n",
       "  text-align: center;\n",
       "}\n",
       "\n",
       "/* Estimator-specific */\n",
       "#sk-container-id-4 div.sk-estimator {\n",
       "  font-family: monospace;\n",
       "  border: 1px dotted var(--sklearn-color-border-box);\n",
       "  border-radius: 0.25em;\n",
       "  box-sizing: border-box;\n",
       "  margin-bottom: 0.5em;\n",
       "  /* unfitted */\n",
       "  background-color: var(--sklearn-color-unfitted-level-0);\n",
       "}\n",
       "\n",
       "#sk-container-id-4 div.sk-estimator.fitted {\n",
       "  /* fitted */\n",
       "  background-color: var(--sklearn-color-fitted-level-0);\n",
       "}\n",
       "\n",
       "/* on hover */\n",
       "#sk-container-id-4 div.sk-estimator:hover {\n",
       "  /* unfitted */\n",
       "  background-color: var(--sklearn-color-unfitted-level-2);\n",
       "}\n",
       "\n",
       "#sk-container-id-4 div.sk-estimator.fitted:hover {\n",
       "  /* fitted */\n",
       "  background-color: var(--sklearn-color-fitted-level-2);\n",
       "}\n",
       "\n",
       "/* Specification for estimator info (e.g. \"i\" and \"?\") */\n",
       "\n",
       "/* Common style for \"i\" and \"?\" */\n",
       "\n",
       ".sk-estimator-doc-link,\n",
       "a:link.sk-estimator-doc-link,\n",
       "a:visited.sk-estimator-doc-link {\n",
       "  float: right;\n",
       "  font-size: smaller;\n",
       "  line-height: 1em;\n",
       "  font-family: monospace;\n",
       "  background-color: var(--sklearn-color-background);\n",
       "  border-radius: 1em;\n",
       "  height: 1em;\n",
       "  width: 1em;\n",
       "  text-decoration: none !important;\n",
       "  margin-left: 1ex;\n",
       "  /* unfitted */\n",
       "  border: var(--sklearn-color-unfitted-level-1) 1pt solid;\n",
       "  color: var(--sklearn-color-unfitted-level-1);\n",
       "}\n",
       "\n",
       ".sk-estimator-doc-link.fitted,\n",
       "a:link.sk-estimator-doc-link.fitted,\n",
       "a:visited.sk-estimator-doc-link.fitted {\n",
       "  /* fitted */\n",
       "  border: var(--sklearn-color-fitted-level-1) 1pt solid;\n",
       "  color: var(--sklearn-color-fitted-level-1);\n",
       "}\n",
       "\n",
       "/* On hover */\n",
       "div.sk-estimator:hover .sk-estimator-doc-link:hover,\n",
       ".sk-estimator-doc-link:hover,\n",
       "div.sk-label-container:hover .sk-estimator-doc-link:hover,\n",
       ".sk-estimator-doc-link:hover {\n",
       "  /* unfitted */\n",
       "  background-color: var(--sklearn-color-unfitted-level-3);\n",
       "  color: var(--sklearn-color-background);\n",
       "  text-decoration: none;\n",
       "}\n",
       "\n",
       "div.sk-estimator.fitted:hover .sk-estimator-doc-link.fitted:hover,\n",
       ".sk-estimator-doc-link.fitted:hover,\n",
       "div.sk-label-container:hover .sk-estimator-doc-link.fitted:hover,\n",
       ".sk-estimator-doc-link.fitted:hover {\n",
       "  /* fitted */\n",
       "  background-color: var(--sklearn-color-fitted-level-3);\n",
       "  color: var(--sklearn-color-background);\n",
       "  text-decoration: none;\n",
       "}\n",
       "\n",
       "/* Span, style for the box shown on hovering the info icon */\n",
       ".sk-estimator-doc-link span {\n",
       "  display: none;\n",
       "  z-index: 9999;\n",
       "  position: relative;\n",
       "  font-weight: normal;\n",
       "  right: .2ex;\n",
       "  padding: .5ex;\n",
       "  margin: .5ex;\n",
       "  width: min-content;\n",
       "  min-width: 20ex;\n",
       "  max-width: 50ex;\n",
       "  color: var(--sklearn-color-text);\n",
       "  box-shadow: 2pt 2pt 4pt #999;\n",
       "  /* unfitted */\n",
       "  background: var(--sklearn-color-unfitted-level-0);\n",
       "  border: .5pt solid var(--sklearn-color-unfitted-level-3);\n",
       "}\n",
       "\n",
       ".sk-estimator-doc-link.fitted span {\n",
       "  /* fitted */\n",
       "  background: var(--sklearn-color-fitted-level-0);\n",
       "  border: var(--sklearn-color-fitted-level-3);\n",
       "}\n",
       "\n",
       ".sk-estimator-doc-link:hover span {\n",
       "  display: block;\n",
       "}\n",
       "\n",
       "/* \"?\"-specific style due to the `<a>` HTML tag */\n",
       "\n",
       "#sk-container-id-4 a.estimator_doc_link {\n",
       "  float: right;\n",
       "  font-size: 1rem;\n",
       "  line-height: 1em;\n",
       "  font-family: monospace;\n",
       "  background-color: var(--sklearn-color-background);\n",
       "  border-radius: 1rem;\n",
       "  height: 1rem;\n",
       "  width: 1rem;\n",
       "  text-decoration: none;\n",
       "  /* unfitted */\n",
       "  color: var(--sklearn-color-unfitted-level-1);\n",
       "  border: var(--sklearn-color-unfitted-level-1) 1pt solid;\n",
       "}\n",
       "\n",
       "#sk-container-id-4 a.estimator_doc_link.fitted {\n",
       "  /* fitted */\n",
       "  border: var(--sklearn-color-fitted-level-1) 1pt solid;\n",
       "  color: var(--sklearn-color-fitted-level-1);\n",
       "}\n",
       "\n",
       "/* On hover */\n",
       "#sk-container-id-4 a.estimator_doc_link:hover {\n",
       "  /* unfitted */\n",
       "  background-color: var(--sklearn-color-unfitted-level-3);\n",
       "  color: var(--sklearn-color-background);\n",
       "  text-decoration: none;\n",
       "}\n",
       "\n",
       "#sk-container-id-4 a.estimator_doc_link.fitted:hover {\n",
       "  /* fitted */\n",
       "  background-color: var(--sklearn-color-fitted-level-3);\n",
       "}\n",
       "</style><div id=\"sk-container-id-4\" class=\"sk-top-container\"><div class=\"sk-text-repr-fallback\"><pre>GaussianNB()</pre><b>In a Jupyter environment, please rerun this cell to show the HTML representation or trust the notebook. <br />On GitHub, the HTML representation is unable to render, please try loading this page with nbviewer.org.</b></div><div class=\"sk-container\" hidden><div class=\"sk-item\"><div class=\"sk-estimator fitted sk-toggleable\"><input class=\"sk-toggleable__control sk-hidden--visually\" id=\"sk-estimator-id-4\" type=\"checkbox\" checked><label for=\"sk-estimator-id-4\" class=\"sk-toggleable__label fitted sk-toggleable__label-arrow fitted\">&nbsp;&nbsp;GaussianNB<a class=\"sk-estimator-doc-link fitted\" rel=\"noreferrer\" target=\"_blank\" href=\"https://scikit-learn.org/1.4/modules/generated/sklearn.naive_bayes.GaussianNB.html\">?<span>Documentation for GaussianNB</span></a><span class=\"sk-estimator-doc-link fitted\">i<span>Fitted</span></span></label><div class=\"sk-toggleable__content fitted\"><pre>GaussianNB()</pre></div> </div></div></div></div>"
      ],
      "text/plain": [
       "GaussianNB()"
      ]
     },
     "execution_count": 140,
     "metadata": {},
     "output_type": "execute_result"
    }
   ],
   "source": [
    "model.fit(x_train,y_train)"
   ]
  },
  {
   "cell_type": "markdown",
   "id": "52099dfa",
   "metadata": {
    "papermill": {
     "duration": 0.02177,
     "end_time": "2023-02-12T12:02:38.796265",
     "exception": false,
     "start_time": "2023-02-12T12:02:38.774495",
     "status": "completed"
    },
    "tags": []
   },
   "source": [
    "**PREDICTION OF CROP**"
   ]
  },
  {
   "cell_type": "code",
   "execution_count": 141,
   "id": "08db98d0",
   "metadata": {
    "execution": {
     "iopub.execute_input": "2023-02-12T12:02:38.842369Z",
     "iopub.status.busy": "2023-02-12T12:02:38.841718Z",
     "iopub.status.idle": "2023-02-12T12:02:38.849726Z",
     "shell.execute_reply": "2023-02-12T12:02:38.848491Z"
    },
    "id": "Bsfy7iiWjPqZ",
    "papermill": {
     "duration": 0.034393,
     "end_time": "2023-02-12T12:02:38.852568",
     "exception": false,
     "start_time": "2023-02-12T12:02:38.818175",
     "status": "completed"
    },
    "tags": []
   },
   "outputs": [],
   "source": [
    "y_prediction=model.predict(x_test)"
   ]
  },
  {
   "cell_type": "markdown",
   "id": "ef0fb372",
   "metadata": {
    "papermill": {
     "duration": 0.024837,
     "end_time": "2023-02-12T12:02:38.902752",
     "exception": false,
     "start_time": "2023-02-12T12:02:38.877915",
     "status": "completed"
    },
    "tags": []
   },
   "source": [
    "# **MODEL METRICS**"
   ]
  },
  {
   "cell_type": "code",
   "execution_count": 142,
   "id": "1d066786",
   "metadata": {
    "execution": {
     "iopub.execute_input": "2023-02-12T12:02:38.953144Z",
     "iopub.status.busy": "2023-02-12T12:02:38.952685Z",
     "iopub.status.idle": "2023-02-12T12:02:38.960666Z",
     "shell.execute_reply": "2023-02-12T12:02:38.959792Z"
    },
    "id": "ucb9FSY5jUzQ",
    "outputId": "a9a2bfd6-e44c-49b8-cc69-fe8ae66de683",
    "papermill": {
     "duration": 0.034782,
     "end_time": "2023-02-12T12:02:38.962852",
     "exception": false,
     "start_time": "2023-02-12T12:02:38.928070",
     "status": "completed"
    },
    "tags": []
   },
   "outputs": [
    {
     "data": {
      "text/plain": [
       "0.990909090909091"
      ]
     },
     "execution_count": 142,
     "metadata": {},
     "output_type": "execute_result"
    }
   ],
   "source": [
    "from sklearn.metrics import accuracy_score\n",
    "accuracy_score(y_test,y_prediction)"
   ]
  },
  {
   "cell_type": "markdown",
   "id": "51b1d5cd",
   "metadata": {},
   "source": [
    "# **CONFUSION MATRIX**"
   ]
  },
  {
   "cell_type": "code",
   "execution_count": 148,
   "id": "9530d6d5",
   "metadata": {},
   "outputs": [
    {
     "data": {
      "text/plain": [
       "<Axes: >"
      ]
     },
     "execution_count": 148,
     "metadata": {},
     "output_type": "execute_result"
    },
    {
     "data": {
      "image/png": "[encoded data removed]",
      "text/plain": [
       "<Figure size 1000x800 with 2 Axes>"
      ]
     },
     "metadata": {},
     "output_type": "display_data"
    }
   ],
   "source": [
    "plt.figure(figsize=(10, 8))\n",
    "from sklearn.metrics import confusion_matrix\n",
    "cm_Sig = confusion_matrix(y_test, y_prediction)\n",
    "sns.heatmap(cm_Sig, annot=True,fmt=\"d\")"
   ]
  },
  {
   "cell_type": "markdown",
   "id": "5b7028b3",
   "metadata": {
    "papermill": {
     "duration": 0.022567,
     "end_time": "2023-02-12T12:02:39.008463",
     "exception": false,
     "start_time": "2023-02-12T12:02:38.985896",
     "status": "completed"
    },
    "tags": []
   },
   "source": [
    "# **SAVING THE MODEL**"
   ]
  },
  {
   "cell_type": "code",
   "execution_count": 144,
   "id": "281b9ddd",
   "metadata": {
    "execution": {
     "iopub.execute_input": "2023-02-12T12:02:39.063589Z",
     "iopub.status.busy": "2023-02-12T12:02:39.063011Z",
     "iopub.status.idle": "2023-02-12T12:02:39.067799Z",
     "shell.execute_reply": "2023-02-12T12:02:39.066909Z"
    },
    "id": "e3fvdWo0hMhO",
    "papermill": {
     "duration": 0.037299,
     "end_time": "2023-02-12T12:02:39.071309",
     "exception": false,
     "start_time": "2023-02-12T12:02:39.034010",
     "status": "completed"
    },
    "tags": []
   },
   "outputs": [],
   "source": [
    "import pickle"
   ]
  },
  {
   "cell_type": "code",
   "execution_count": 145,
   "id": "cc343ea1",
   "metadata": {
    "execution": {
     "iopub.execute_input": "2023-02-12T12:02:39.125964Z",
     "iopub.status.busy": "2023-02-12T12:02:39.125556Z",
     "iopub.status.idle": "2023-02-12T12:02:39.131232Z",
     "shell.execute_reply": "2023-02-12T12:02:39.130170Z"
    },
    "id": "k_X6iXEGjSGt",
    "papermill": {
     "duration": 0.033531,
     "end_time": "2023-02-12T12:02:39.133498",
     "exception": false,
     "start_time": "2023-02-12T12:02:39.099967",
     "status": "completed"
    },
    "tags": []
   },
   "outputs": [],
   "source": [
    "filename='trained_model.pkl'\n",
    "pickle.dump(model,open(filename,'wb'))"
   ]
  }
 ],
 "metadata": {
  "kernelspec": {
   "display_name": "Python 3",
   "language": "python",
   "name": "python3"
  },
  "language_info": {
   "codemirror_mode": {
    "name": "ipython",
    "version": 3
   },
   "file_extension": ".py",
   "mimetype": "text/x-python",
   "name": "python",
   "nbconvert_exporter": "python",
   "pygments_lexer": "ipython3",
   "version": "3.11.4"
  },
  "papermill": {
   "default_parameters": {},
   "duration": 13.004849,
   "end_time": "2023-02-12T12:02:40.035618",
   "environment_variables": {},
   "exception": null,
   "input_path": "__notebook__.ipynb",
   "output_path": "__notebook__.ipynb",
   "parameters": {},
   "start_time": "2023-02-12T12:02:27.030769",
   "version": "2.3.4"
  }
 },
 "nbformat": 4,
 "nbformat_minor": 5
}
